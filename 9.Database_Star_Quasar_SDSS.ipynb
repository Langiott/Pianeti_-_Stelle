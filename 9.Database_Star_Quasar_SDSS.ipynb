{
 "cells": [
  {
   "cell_type": "code",
   "execution_count": 2,
   "id": "97d17d01-d6c4-4a58-b083-14f5963a1aef",
   "metadata": {},
   "outputs": [
    {
     "name": "stdout",
     "output_type": "stream",
     "text": [
      "C:\\Users\\andre\\AppData\\Local\\Programs\\Python\\Python312\\python.exe\n"
     ]
    }
   ],
   "source": [
    "import sys\n",
    "print(sys.executable)"
   ]
  },
  {
   "cell_type": "code",
   "execution_count": 3,
   "id": "710fd4e9-792b-4cec-9e86-5762aad5f7e3",
   "metadata": {},
   "outputs": [
    {
     "name": "stdout",
     "output_type": "stream",
     "text": [
      "DIR: \n",
      "C:\\Users\\andre\\Desktop\\PIANETI_STELLE\n"
     ]
    }
   ],
   "source": [
    "import os\n",
    "print(\"DIR: \")  \n",
    "print(os.getcwd())"
   ]
  },
  {
   "cell_type": "code",
   "execution_count": 9,
   "id": "3dadd1e7-5299-4590-9f91-b62eaf9e528a",
   "metadata": {},
   "outputs": [
    {
     "name": "stdout",
     "output_type": "stream",
     "text": [
      "                 objid          ra        dec  redshift   class         u  \\\n",
      "0  1237664869216289195  150.050997  30.773877  0.999999  GALAXY  25.22501   \n",
      "1  1237678858480256034   20.200700  11.509172  0.999998  GALAXY  25.06447   \n",
      "2  1237678879953584626   15.309469  -3.030697  0.999997  GALAXY  22.76108   \n",
      "3  1237665374405394580  236.472613  22.669976  0.999996     QSO  19.30090   \n",
      "4  1237659163880915354  231.432215  48.557953  0.999996     QSO  20.32626   \n",
      "\n",
      "          g         r         i         z  \n",
      "0  22.19054  22.28873  21.97035  21.10712  \n",
      "1  23.54554  22.33624  20.82907  19.76874  \n",
      "2  22.82600  22.33715  21.83812  21.57255  \n",
      "3  19.15252  18.93033  19.04016  19.02150  \n",
      "4  20.22036  20.01596  19.93121  19.95363  \n"
     ]
    }
   ],
   "source": [
    "# Importa le librerie necessarie\n",
    "from astroquery.sdss import SDSS\n",
    "from astropy.table import Table\n",
    "import pandas as pd\n",
    "import matplotlib.pyplot as plt\n",
    "query = \"\"\"\n",
    "SELECT TOP 100000\n",
    "    p.objid, \n",
    "    p.ra, \n",
    "    p.dec, \n",
    "    s.z AS redshift, \n",
    "    s.class,  -- Assicurati che 'class' sia una colonna in SpecObj\n",
    "    p.u, \n",
    "    p.g, \n",
    "    p.r, \n",
    "    p.i, \n",
    "    p.z\n",
    "FROM\n",
    "    PhotoObjAll AS p\n",
    "JOIN\n",
    "    SpecObj AS s ON s.bestobjid = p.objid\n",
    "WHERE\n",
    "    s.zWarning = 0\n",
    "AND\n",
    "    s.z BETWEEN 0.01 AND 1\n",
    "AND\n",
    "    s.class IN ('STAR', 'GALAXY', 'QSO', 'PLANET')  -- Filtra per classi\n",
    "ORDER BY\n",
    "    s.z DESC\n",
    "\"\"\"\n",
    "\n",
    "# Effettua la query\n",
    "result = SDSS.query_sql(query)\n",
    "\n",
    "# Converti i dati in un DataFrame di Pandas\n",
    "df = result.to_pandas()\n",
    "\n",
    "# Mostra le prime righe del dataset\n",
    "print(df.head())\n",
    "\n",
    "# Salva il risultato in un file CSV (opzionale)\n",
    "df.to_csv(\"redshift_sdss_data.csv\", index=False)"
   ]
  },
  {
   "cell_type": "code",
   "execution_count": 4,
   "id": "938f2704-cfc9-4541-86ac-2bed200a6407",
   "metadata": {},
   "outputs": [
    {
     "data": {
      "text/plain": [
       "0     GALAXY\n",
       "1     GALAXY\n",
       "2     GALAXY\n",
       "3        QSO\n",
       "4        QSO\n",
       "       ...  \n",
       "95       QSO\n",
       "96    GALAXY\n",
       "97       QSO\n",
       "98    GALAXY\n",
       "99    GALAXY\n",
       "Name: class, Length: 100, dtype: object"
      ]
     },
     "execution_count": 4,
     "metadata": {},
     "output_type": "execute_result"
    }
   ],
   "source": [
    "df['class']"
   ]
  },
  {
   "cell_type": "code",
   "execution_count": 11,
   "id": "ed744c1f-5f2f-4b63-9bec-9ffc6e023397",
   "metadata": {},
   "outputs": [
    {
     "name": "stdout",
     "output_type": "stream",
     "text": [
      "Empty DataFrame\n",
      "Columns: [objid, ra, dec, redshift, class, u, g, r, i, z]\n",
      "Index: []\n"
     ]
    }
   ],
   "source": [
    "s = df[df['class']== 'PLANET']\n",
    "print(s.head())"
   ]
  },
  {
   "cell_type": "code",
   "execution_count": 15,
   "id": "9e0b6faa-6568-4802-a435-ba84efac74ca",
   "metadata": {},
   "outputs": [
    {
     "name": "stdout",
     "output_type": "stream",
     "text": [
      "Nessun dato trovato. Verifica la query e i criteri di ricerca.\n"
     ]
    }
   ],
   "source": [
    "# Importa le librerie necessarie\n",
    "from astroquery.sdss import SDSS\n",
    "import pandas as pd\n",
    "\n",
    "query = \"\"\"\n",
    "SELECT TOP 100000\n",
    "    p.objid, \n",
    "    p.ra, \n",
    "    p.dec, \n",
    "    s.z AS redshift, \n",
    "    s.class,  \n",
    "    p.u, \n",
    "    p.g, \n",
    "    p.r, \n",
    "    p.i, \n",
    "    p.z\n",
    "FROM\n",
    "    PhotoObjAll AS p\n",
    "JOIN\n",
    "    SpecObj AS s ON s.bestobjid = p.objid\n",
    "WHERE\n",
    "    s.zWarning = 0\n",
    "AND\n",
    "    s.z BETWEEN 0.01 AND 1\n",
    "AND\n",
    "    s.class IN ('PLANET')  \n",
    "ORDER BY\n",
    "    s.z DESC\n",
    "\"\"\"\n",
    "\n",
    "# Effettua la query\n",
    "result = SDSS.query_sql(query)\n",
    "\n",
    "# Controlla se il risultato è None\n",
    "if result is None:\n",
    "    print(\"Nessun dato trovato. Verifica la query e i criteri di ricerca.\")\n",
    "else:\n",
    "    # Converti i dati in un DataFrame di Pandas\n",
    "    df = result.to_pandas()\n",
    "\n",
    "    # Mostra le prime righe del dataset\n",
    "    print(df.head())\n",
    "\n",
    "    # Salva il risultato in un file CSV (opzionale)\n",
    "    df.to_csv(\"dataset_Planet.csv\", index=False)\n"
   ]
  },
  {
   "cell_type": "code",
   "execution_count": 16,
   "id": "8cd869b9-5181-4460-b81b-c0200c0c7931",
   "metadata": {},
   "outputs": [
    {
     "name": "stdout",
     "output_type": "stream",
     "text": [
      "Column1\n",
      "-------\n",
      "      0\n"
     ]
    }
   ],
   "source": [
    "count_query = \"\"\"\n",
    "SELECT COUNT(*)\n",
    "FROM SpecObj\n",
    "WHERE class = 'PLANET'\n",
    "\"\"\"\n",
    "\n",
    "count_result = SDSS.query_sql(count_query)\n",
    "print(count_result)\n"
   ]
  },
  {
   "cell_type": "code",
   "execution_count": 17,
   "id": "27520e43-41fa-47ea-9fd0-15974c3112a6",
   "metadata": {},
   "outputs": [
    {
     "name": "stdout",
     "output_type": "stream",
     "text": [
      "class \n",
      "------\n",
      "GALAXY\n",
      "   QSO\n",
      "  STAR\n"
     ]
    }
   ],
   "source": [
    "from astroquery.sdss import SDSS\n",
    "\n",
    "# Query per ottenere le classi disponibili\n",
    "class_query = \"\"\"\n",
    "SELECT DISTINCT class\n",
    "FROM SpecObj\n",
    "\"\"\"\n",
    "result = SDSS.query_sql(class_query)\n",
    "\n",
    "print(result)"
   ]
  },
  {
   "cell_type": "code",
   "execution_count": null,
   "id": "d7d97056-fc24-4bd8-8d93-2d1e3f94c301",
   "metadata": {},
   "outputs": [],
   "source": []
  }
 ],
 "metadata": {
  "kernelspec": {
   "display_name": "Python 3 (ipykernel)",
   "language": "python",
   "name": "python3"
  },
  "language_info": {
   "codemirror_mode": {
    "name": "ipython",
    "version": 3
   },
   "file_extension": ".py",
   "mimetype": "text/x-python",
   "name": "python",
   "nbconvert_exporter": "python",
   "pygments_lexer": "ipython3",
   "version": "3.12.3"
  }
 },
 "nbformat": 4,
 "nbformat_minor": 5
}
