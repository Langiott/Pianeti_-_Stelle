{
 "cells": [
  {
   "cell_type": "code",
   "execution_count": 1,
   "id": "aa314c4e-f26c-4224-8457-a91077c158c3",
   "metadata": {},
   "outputs": [
    {
     "name": "stdout",
     "output_type": "stream",
     "text": [
      "C:\\Users\\andre\\AppData\\Local\\Programs\\Python\\Python312\\python.exe\n"
     ]
    }
   ],
   "source": [
    "import sys\n",
    "print(sys.executable)"
   ]
  },
  {
   "cell_type": "code",
   "execution_count": 2,
   "id": "e76c4d35-b369-49c3-9fea-7dbc39970fdb",
   "metadata": {},
   "outputs": [
    {
     "name": "stdout",
     "output_type": "stream",
     "text": [
      "DIR: \n",
      "C:\\Users\\andre\\Desktop\\PIANETI_STELLE\n"
     ]
    }
   ],
   "source": [
    "import os\n",
    "print(\"DIR: \")  \n",
    "print(os.getcwd())"
   ]
  },
  {
   "cell_type": "code",
   "execution_count": 3,
   "id": "b258e086-2127-466e-837a-48822afb4f3e",
   "metadata": {},
   "outputs": [],
   "source": [
    "# Importa le librerie NON necessarie\n",
    "from astroquery.sdss import SDSS\n",
    "from astropy.table import Table\n",
    "import pandas as pd\n",
    "import matplotlib.pyplot as plt\n",
    "import exoplanet as xo\n",
    "\n",
    " # Imposta il flag per evitare l'uso di compilazioni in C\n",
    "import pytensor\n",
    "pytensor.config.cxx = '' \n",
    "\n",
    "# Importa le librerie NON necessarie\n",
    "import pandas as pd\n",
    "import numpy as np"
   ]
  },
  {
   "cell_type": "code",
   "execution_count": 22,
   "id": "19f88096-bb21-44ce-a02b-a038e55632ce",
   "metadata": {
    "scrolled": true
   },
   "outputs": [
    {
     "name": "stdout",
     "output_type": "stream",
     "text": [
      "# This file was produced by the NASA Exoplanet Archive  http://exoplanetarchive.ipac.caltech.edu\n",
      "# Mon Oct 21 10:20:43 2024\n",
      "#\n",
      "# User preference: *\n",
      "#\n",
      "# COLUMN pl_name:        Planet Name\n",
      "# COLUMN pl_refname:     Planetary Parameter Reference\n",
      "# COLUMN pl_orbper:      Orbital Period [days]\n",
      "# COLUMN pl_orbsmax:     Orbit Semi-Major Axis [au]\n",
      "# COLUMN pl_bmasse:      Planet Mass or Mass*sin(i) [Earth Mass]\n",
      "# COLUMN pl_bmassj:      Planet Mass or Mass*sin(i) [Jupiter Mass]\n",
      "# COLUMN pl_bmassprov:   Planet Mass or Mass*sin(i) Provenance\n",
      "# COLUMN pl_orbeccen:    Eccentricity\n",
      "# COLUMN pl_insol:       Insolation Flux [Earth Flux]\n",
      "# COLUMN pl_eqt:         Equilibrium Temperature [K]\n",
      "# COLUMN rastr:          RA [sexagesimal]\n",
      "# COLUMN ra:             RA [deg]\n",
      "# COLUMN decstr:         Dec [sexagesimal]\n",
      "# COLUMN dec:            Dec [deg]\n",
      "# COLUMN sy_dist:        Distance [pc]\n",
      "# COLUMN sy_vmag:        V (Johnson) Magnitude\n",
      "# COLUMN sy_kmag:        Ks (2MASS) Magnitude\n",
      "# COLUMN sy_gaiamag:     Gaia Magnitude\n",
      "#\n"
     ]
    }
   ],
   "source": [
    "# Percorso al file CSV (devi avere un file salvato localmente)\n",
    "# Prendi il DATASET GIA SCARICATO precedentemente\n",
    "\n",
    "file_path = \"./Data/Nasa_Exoplanet_Archive.csv\" \n",
    "# Leggi le prime righe per diagnosticare il problema\n",
    "with open(file_path, 'r', encoding='utf-8') as f:\n",
    "    for _ in range(24):  # Mostra le prime 5 righe\n",
    "        print(f.readline().strip())  # Rimuove eventuali spazi bianchi"
   ]
  },
  {
   "cell_type": "markdown",
   "id": "5cf2c3e5-1f73-4245-9ec1-6eacca639632",
   "metadata": {},
   "source": [
    "Leggenda presa dalla documentazione ufficiale https://exoplanetarchive.ipac.caltech.edu :\n",
    "\n",
    "- **pl_name**: Nome del Pianeta - Nome del pianeta più comunemente usato nella letteratura.\n",
    "- **pl_refname**: Riferimento Parametri Planetari - Pubblicazione di riferimento per i parametri planetari.\n",
    "- **pl_orbper**: Periodo Orbitale [giorni] - Tempo impiegato dal pianeta per completare un'orbita attorno alla sua stella ospite.\n",
    "- **pl_orbsmax**: Semi-Asse Maggiore [au] - Raggio più lungo di un'orbita ellittica o separazione proiettata per esopianeti scoperti tramite microlensing gravitazionale o imaging diretto.\n",
    "- **pl_bmasse**: Massa del Pianeta [Masse terrestri] - Quantità di materia del pianeta in unità di masse terrestri.\n",
    "- **pl_bmassj**: Massa del Pianeta [Masse gioviane] - Quantità di materia del pianeta in unità di masse gioviane.\n",
    "- **pl_bmassprov**: Provenienza Massa - Provenienza della misurazione della massa: Massa, M*sin(i), ecc.\n",
    "- **pl_orbeccen**: Eccentricità - Quanto l'orbita del pianeta devia da un cerchio perfetto.\n",
    "- **pl_insol**: Flusso di Insolazione [Flusso terrestre] - Quantità di energia ricevuta dal pianeta, in unità relative alla Terra.\n",
    "- **pl_eqt**: Temperatura di Equilibrio [K] - Temperatura di equilibrio modellata per il pianeta.\n",
    "- **rastr**: Ascensione Retta [sessagesimale] - Ascensione retta del sistema planetario in formato sessagesimale.\n",
    "- **ra**: Ascensione Retta [gradi] - Ascensione retta in gradi decimali.\n",
    "- **decstr**: Declinazione [sessagesimale] - Declinazione del sistema planetario in formato sessagesimale.\n",
    "- **dec**: Declinazione [gradi] - Declinazione in gradi decimali.\n",
    "- **sy_dist**: Distanza [pc] - Distanza dal sistema planetario in parsec.\n",
    "- **sy_vmag**: Magnitudine V (Johnson) - Luminosità della stella ospite in magnitudini, misurata nella banda V (Johnson).\n",
    "- **sy_kmag**: Magnitudine Ks (2MASS) - Luminosità della stella ospite in magnitudini, misurata nella banda K (2MASS).\n",
    "- **sy_gaiamag**: Magnitudine Gaia - Luminosità della stella misurata nella banda Gaia."
   ]
  },
  {
   "cell_type": "code",
   "execution_count": 1,
   "id": "125abbc9-e313-4536-b397-5d0b91c9ec61",
   "metadata": {
    "collapsed": true,
    "jupyter": {
     "outputs_hidden": true
    },
    "scrolled": true
   },
   "outputs": [
    {
     "ename": "NameError",
     "evalue": "name 'pd' is not defined",
     "output_type": "error",
     "traceback": [
      "\u001b[1;31m---------------------------------------------------------------------------\u001b[0m",
      "\u001b[1;31mNameError\u001b[0m                                 Traceback (most recent call last)",
      "Cell \u001b[1;32mIn[1], line 4\u001b[0m\n\u001b[0;32m      2\u001b[0m \u001b[38;5;28;01mtry\u001b[39;00m:\n\u001b[0;32m      3\u001b[0m     \u001b[38;5;66;03m# Carica il file in un DataFrame\u001b[39;00m\n\u001b[1;32m----> 4\u001b[0m     df \u001b[38;5;241m=\u001b[39m \u001b[43mpd\u001b[49m\u001b[38;5;241m.\u001b[39mread_csv(file_path, sep\u001b[38;5;241m=\u001b[39m\u001b[38;5;124m'\u001b[39m\u001b[38;5;130;01m\\t\u001b[39;00m\u001b[38;5;124m'\u001b[39m, on_bad_lines\u001b[38;5;241m=\u001b[39m\u001b[38;5;124m'\u001b[39m\u001b[38;5;124mskip\u001b[39m\u001b[38;5;124m'\u001b[39m, encoding\u001b[38;5;241m=\u001b[39m\u001b[38;5;124m'\u001b[39m\u001b[38;5;124mutf-8\u001b[39m\u001b[38;5;124m'\u001b[39m)\n\u001b[0;32m      5\u001b[0m     \u001b[38;5;28mprint\u001b[39m(\u001b[38;5;124m\"\u001b[39m\u001b[38;5;130;01m\\n\u001b[39;00m\u001b[38;5;124mDati caricati con successo, rimani sfigato comunque però ;)\u001b[39m\u001b[38;5;124m\"\u001b[39m)\n",
      "\u001b[1;31mNameError\u001b[0m: name 'pd' is not defined",
      "\nDuring handling of the above exception, another exception occurred:\n",
      "\u001b[1;31mNameError\u001b[0m                                 Traceback (most recent call last)",
      "Cell \u001b[1;32mIn[1], line 6\u001b[0m\n\u001b[0;32m      4\u001b[0m     df \u001b[38;5;241m=\u001b[39m pd\u001b[38;5;241m.\u001b[39mread_csv(file_path, sep\u001b[38;5;241m=\u001b[39m\u001b[38;5;124m'\u001b[39m\u001b[38;5;130;01m\\t\u001b[39;00m\u001b[38;5;124m'\u001b[39m, on_bad_lines\u001b[38;5;241m=\u001b[39m\u001b[38;5;124m'\u001b[39m\u001b[38;5;124mskip\u001b[39m\u001b[38;5;124m'\u001b[39m, encoding\u001b[38;5;241m=\u001b[39m\u001b[38;5;124m'\u001b[39m\u001b[38;5;124mutf-8\u001b[39m\u001b[38;5;124m'\u001b[39m)\n\u001b[0;32m      5\u001b[0m     \u001b[38;5;28mprint\u001b[39m(\u001b[38;5;124m\"\u001b[39m\u001b[38;5;130;01m\\n\u001b[39;00m\u001b[38;5;124mDati caricati con successo, rimani sfigato comunque però ;)\u001b[39m\u001b[38;5;124m\"\u001b[39m)\n\u001b[1;32m----> 6\u001b[0m \u001b[38;5;28;01mexcept\u001b[39;00m \u001b[43mpd\u001b[49m\u001b[38;5;241m.\u001b[39merrors\u001b[38;5;241m.\u001b[39mParserError \u001b[38;5;28;01mas\u001b[39;00m e:\n\u001b[0;32m      7\u001b[0m     \u001b[38;5;28mprint\u001b[39m(\u001b[38;5;124mf\u001b[39m\u001b[38;5;124m\"\u001b[39m\u001b[38;5;124mErrore durante il parsing: \u001b[39m\u001b[38;5;132;01m{\u001b[39;00me\u001b[38;5;132;01m}\u001b[39;00m\u001b[38;5;124m\"\u001b[39m)\n\u001b[0;32m      8\u001b[0m \u001b[38;5;28;01mexcept\u001b[39;00m \u001b[38;5;167;01mFileNotFoundError\u001b[39;00m:\n",
      "\u001b[1;31mNameError\u001b[0m: name 'pd' is not defined"
     ]
    }
   ],
   "source": [
    "# Prova a leggere il file come un DataFrame\n",
    "try:\n",
    "    # Carica il file in un DataFrame\n",
    "    df = pd.read_csv(file_path, sep='\\t', on_bad_lines='skip', encoding='utf-8')\n",
    "    print(\"\\nDati caricati con successo, rimani sfigato comunque però ;)\")\n",
    "except pd.errors.ParserError as e:\n",
    "    print(f\"Errore durante il parsing: {e}\")\n",
    "except FileNotFoundError:\n",
    "    print(f\"Errore: Il file '{file_path}' non è stato trovato.\")\n",
    "except Exception as e:\n",
    "    print(f\"Si è verificato un errore inaspettato: {e}\")\n"
   ]
  },
  {
   "cell_type": "code",
   "execution_count": null,
   "id": "6bb3050b-9026-4bf9-a461-95da96ed0060",
   "metadata": {},
   "outputs": [],
   "source": []
  }
 ],
 "metadata": {
  "kernelspec": {
   "display_name": "Python 3 (ipykernel)",
   "language": "python",
   "name": "python3"
  },
  "language_info": {
   "codemirror_mode": {
    "name": "ipython",
    "version": 3
   },
   "file_extension": ".py",
   "mimetype": "text/x-python",
   "name": "python",
   "nbconvert_exporter": "python",
   "pygments_lexer": "ipython3",
   "version": "3.12.3"
  }
 },
 "nbformat": 4,
 "nbformat_minor": 5
}
