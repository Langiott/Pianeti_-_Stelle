{
 "cells": [
  {
   "cell_type": "markdown",
   "metadata": {
    "jupyter": {
     "source_hidden": true
    }
   },
   "source": [
    "# Classificazione delle stelle con Redshift delle stelle\n",
    "\n",
    "Definire prima cosa è lo Redshift , la formula , poi capire come utilizzarlo per un eventuale classificazione. Trova un database valido , tipo della Nasa , ovviamente. Sito Download  DESI-EDR to Redshift : \n",
    "\n",
    "https://help.desi.lbl.gov/index.php?qa=8&qa_1=accessing-desi-edr-redshift-and-spectra-using-list-of-and-dec , devi inscriverti su troppi siti del cazzoo.\n",
    "\n",
    "desihub--> sito ufficile per poter trovare materiale\n",
    "specpod-db--> https://github.com/desihub/specprod-db\n",
    "\n",
    "### oss: Prima di lavorare con il db esegui le seguenti operazioni:\n",
    "\n",
    "\t1.Installa Jupiter notebook , per lavorare direttamente con i file locali\n",
    "\n",
    "\t2.Configura l'enviroment chiamato env, questo contiene le librerie , puo essere legato a solo un progetto o a tutti. Molto simili all'env di Anaconda. Solo che \tbisogna stare attenti nel configurazione!!\n",
    "\n",
    "\t3.Scarica Postgres , per il progetto l'unico modo è usare questo gestore per il database. \n",
    "\n",
    "\t4. L'Avvio e automatico di Postgres,ma meglio controllare\n",
    "\t- Premi Win + R, digita \"services.msc\" e premi Invio.\n",
    "\t- Trova il servizio PostgreSQL (es. postgresql-x64-15 o simile).\n",
    "\t- Verifica che il servizio sia in esecuzione. In caso contrario, fai clic con il pulsante destro del mouse e seleziona \"Start\".\n",
    "\n",
    "\t5. Installa librerie particolari per il progetto che servono per collegarti al database PostgreSQL direttamente da JupyterLabconPython,utilizzando  *sqlalchemy* e *psycopg2*."
   ]
  },
  {
   "cell_type": "code",
   "execution_count": 4,
   "metadata": {},
   "outputs": [
    {
     "name": "stdout",
     "output_type": "stream",
     "text": [
      "C:\\Users\\andre\\AppData\\Local\\Programs\\Python\\Python312\\python.exe\n"
     ]
    }
   ],
   "source": [
    "import sys\n",
    "print(sys.executable)"
   ]
  },
  {
   "cell_type": "code",
   "execution_count": 5,
   "metadata": {},
   "outputs": [
    {
     "name": "stdout",
     "output_type": "stream",
     "text": [
      "DIR: \n",
      "C:\\Users\\andre\\Desktop\\PIANETI_STELLE\n"
     ]
    }
   ],
   "source": [
    "import os\n",
    "print(\"DIR: \")  \n",
    "print(os.getcwd()) \n",
    "\n",
    "#print(\"NEW_DIR: \")  \n",
    "#import os\n",
    "#os.chdir('./specprod-db')\n",
    "#print(os.getcwd()) "
   ]
  },
  {
   "cell_type": "markdown",
   "metadata": {},
   "source": [
    "### COME INSTALLERE CORRETTAMENTE UN PROGETTO GIT SU JUPYTER:\n",
    "1. Clona il progetto\n",
    "2. Vai nella cartella dove è salvato il progetto : \"C:\\Users\\andre\\Desktop\\PIANETI_STELLE\\specprod-db\\desisurvey\"\n",
    "3. Da terminale digitare il codice per configurazione del progetto: \"python setup.py install\"\n",
    "4. Ripeti procedura per ogni git clone "
   ]
  },
  {
   "cell_type": "code",
   "execution_count": 6,
   "metadata": {},
   "outputs": [
    {
     "name": "stderr",
     "output_type": "stream",
     "text": [
      "Cloning into 'specprod-db'...\n"
     ]
    }
   ],
   "source": [
    "!git clone  https://github.com/desihub/specprod-db.git"
   ]
  },
  {
   "cell_type": "code",
   "execution_count": 7,
   "metadata": {
    "collapsed": true,
    "jupyter": {
     "outputs_hidden": true
    }
   },
   "outputs": [
    {
     "name": "stderr",
     "output_type": "stream",
     "text": [
      "Cloning into 'desiutil'...\n",
      "Updating files:  35% (32/89)\n",
      "Updating files:  37% (33/89)\n",
      "Updating files:  38% (34/89)\n",
      "Updating files:  39% (35/89)\n",
      "Updating files:  40% (36/89)\n",
      "Updating files:  41% (37/89)\n",
      "Updating files:  42% (38/89)\n",
      "Updating files:  43% (39/89)\n",
      "Updating files:  44% (40/89)\n",
      "Updating files:  46% (41/89)\n",
      "Updating files:  47% (42/89)\n",
      "Updating files:  48% (43/89)\n",
      "Updating files:  49% (44/89)\n",
      "Updating files:  50% (45/89)\n",
      "Updating files:  51% (46/89)\n",
      "Updating files:  52% (47/89)\n",
      "Updating files:  53% (48/89)\n",
      "Updating files:  55% (49/89)\n",
      "Updating files:  56% (50/89)\n",
      "Updating files:  57% (51/89)\n",
      "Updating files:  58% (52/89)\n",
      "Updating files:  59% (53/89)\n",
      "Updating files:  60% (54/89)\n",
      "Updating files:  61% (55/89)\n",
      "Updating files:  62% (56/89)\n",
      "Updating files:  64% (57/89)\n",
      "Updating files:  65% (58/89)\n",
      "Updating files:  66% (59/89)\n",
      "Updating files:  67% (60/89)\n",
      "Updating files:  68% (61/89)\n",
      "Updating files:  69% (62/89)\n",
      "Updating files:  70% (63/89)\n",
      "Updating files:  71% (64/89)\n",
      "Updating files:  73% (65/89)\n",
      "Updating files:  74% (66/89)\n",
      "Updating files:  75% (67/89)\n",
      "Updating files:  76% (68/89)\n",
      "Updating files:  77% (69/89)\n",
      "Updating files:  78% (70/89)\n",
      "Updating files:  79% (71/89)\n",
      "Updating files:  80% (72/89)\n",
      "Updating files:  82% (73/89)\n",
      "Updating files:  83% (74/89)\n",
      "Updating files:  84% (75/89)\n",
      "Updating files:  85% (76/89)\n",
      "Updating files:  86% (77/89)\n",
      "Updating files:  87% (78/89)\n",
      "Updating files:  88% (79/89)\n",
      "Updating files:  89% (80/89)\n",
      "Updating files:  91% (81/89)\n",
      "Updating files:  92% (82/89)\n",
      "Updating files:  93% (83/89)\n",
      "Updating files:  94% (84/89)\n",
      "Updating files:  95% (85/89)\n",
      "Updating files:  96% (86/89)\n",
      "Updating files:  97% (87/89)\n",
      "Updating files:  98% (88/89)\n",
      "Updating files: 100% (89/89)\n",
      "Updating files: 100% (89/89), done.\n"
     ]
    }
   ],
   "source": [
    "!git clone https://github.com/desihub/desiutil.git"
   ]
  },
  {
   "cell_type": "code",
   "execution_count": 8,
   "metadata": {
    "collapsed": true,
    "jupyter": {
     "outputs_hidden": true
    }
   },
   "outputs": [
    {
     "name": "stderr",
     "output_type": "stream",
     "text": [
      "Cloning into 'desitarget'...\n",
      "Updating files:  26% (93/357)\n",
      "Updating files:  26% (94/357)\n",
      "Updating files:  26% (95/357)\n",
      "Updating files:  27% (97/357)\n",
      "Updating files:  27% (99/357)\n",
      "Updating files:  28% (100/357)\n",
      "Updating files:  29% (104/357)\n",
      "Updating files:  29% (106/357)\n",
      "Updating files:  30% (108/357)\n",
      "Updating files:  31% (111/357)\n",
      "Updating files:  32% (115/357)\n",
      "Updating files:  33% (118/357)\n",
      "Updating files:  34% (122/357)\n",
      "Updating files:  34% (123/357)\n",
      "Updating files:  34% (124/357)\n",
      "Updating files:  35% (125/357)\n",
      "Updating files:  35% (126/357)\n",
      "Updating files:  36% (129/357)\n",
      "Updating files:  36% (132/357)\n",
      "Updating files:  37% (133/357)\n",
      "Updating files:  38% (136/357)\n",
      "Updating files:  39% (140/357)\n",
      "Updating files:  40% (143/357)\n",
      "Updating files:  41% (147/357)\n",
      "Updating files:  42% (150/357)\n",
      "Updating files:  43% (154/357)\n",
      "Updating files:  44% (158/357)\n",
      "Updating files:  45% (161/357)\n",
      "Updating files:  46% (165/357)\n",
      "Updating files:  47% (168/357)\n",
      "Updating files:  48% (172/357)\n",
      "Updating files:  49% (175/357)\n",
      "Updating files:  50% (179/357)\n",
      "Updating files:  51% (183/357)\n",
      "Updating files:  52% (186/357)\n",
      "Updating files:  52% (189/357)\n",
      "Updating files:  53% (190/357)\n",
      "Updating files:  54% (193/357)\n",
      "Updating files:  55% (197/357)\n",
      "Updating files:  56% (200/357)\n",
      "Updating files:  57% (204/357)\n",
      "Updating files:  58% (208/357)\n",
      "Updating files:  59% (211/357)\n",
      "Updating files:  60% (215/357)\n",
      "Updating files:  61% (218/357)\n",
      "Updating files:  62% (222/357)\n",
      "Updating files:  63% (225/357)\n",
      "Updating files:  64% (229/357)\n",
      "Updating files:  65% (233/357)\n",
      "Updating files:  66% (236/357)\n",
      "Updating files:  67% (240/357)\n",
      "Updating files:  67% (242/357)\n",
      "Updating files:  68% (243/357)\n",
      "Updating files:  69% (247/357)\n",
      "Updating files:  70% (250/357)\n",
      "Updating files:  71% (254/357)\n",
      "Updating files:  72% (258/357)\n",
      "Updating files:  73% (261/357)\n",
      "Updating files:  74% (265/357)\n",
      "Updating files:  75% (268/357)\n",
      "Updating files:  76% (272/357)\n",
      "Updating files:  77% (275/357)\n",
      "Updating files:  78% (279/357)\n",
      "Updating files:  79% (283/357)\n",
      "Updating files:  80% (286/357)\n",
      "Updating files:  81% (290/357)\n",
      "Updating files:  82% (293/357)\n",
      "Updating files:  83% (297/357)\n",
      "Updating files:  84% (300/357)\n",
      "Updating files:  85% (304/357)\n",
      "Updating files:  86% (308/357)\n",
      "Updating files:  87% (311/357)\n",
      "Updating files:  88% (315/357)\n",
      "Updating files:  89% (318/357)\n",
      "Updating files:  90% (322/357)\n",
      "Updating files:  91% (325/357)\n",
      "Updating files:  92% (329/357)\n",
      "Updating files:  93% (333/357)\n",
      "Updating files:  94% (336/357)\n",
      "Updating files:  95% (340/357)\n",
      "Updating files:  95% (342/357)\n",
      "Updating files:  96% (343/357)\n",
      "Updating files:  97% (347/357)\n",
      "Updating files:  98% (350/357)\n",
      "Updating files:  99% (354/357)\n",
      "Updating files: 100% (357/357)\n",
      "Updating files: 100% (357/357), done.\n"
     ]
    }
   ],
   "source": [
    "!git clone https://github.com/desihub/desitarget.git"
   ]
  },
  {
   "cell_type": "code",
   "execution_count": 10,
   "metadata": {
    "collapsed": true,
    "jupyter": {
     "outputs_hidden": true
    },
    "scrolled": true
   },
   "outputs": [
    {
     "name": "stderr",
     "output_type": "stream",
     "text": [
      "Cloning into 'desisurvey'...\n",
      "Updating files:  55% (48/87)\n",
      "Updating files:  56% (49/87)\n",
      "Updating files:  57% (50/87)\n",
      "Updating files:  58% (51/87)\n",
      "Updating files:  59% (52/87)\n",
      "Updating files:  60% (53/87)\n",
      "Updating files:  62% (54/87)\n",
      "Updating files:  63% (55/87)\n",
      "Updating files:  64% (56/87)\n",
      "Updating files:  65% (57/87)\n",
      "Updating files:  66% (58/87)\n",
      "Updating files:  67% (59/87)\n",
      "Updating files:  68% (60/87)\n",
      "Updating files:  70% (61/87)\n",
      "Updating files:  71% (62/87)\n",
      "Updating files:  72% (63/87)\n",
      "Updating files:  73% (64/87)\n",
      "Updating files:  74% (65/87)\n",
      "Updating files:  75% (66/87)\n",
      "Updating files:  77% (67/87)\n",
      "Updating files:  78% (68/87)\n",
      "Updating files:  79% (69/87)\n",
      "Updating files:  80% (70/87)\n",
      "Updating files:  81% (71/87)\n",
      "Updating files:  82% (72/87)\n",
      "Updating files:  83% (73/87)\n",
      "Updating files:  85% (74/87)\n",
      "Updating files:  86% (75/87)\n",
      "Updating files:  87% (76/87)\n",
      "Updating files:  88% (77/87)\n",
      "Updating files:  89% (78/87)\n",
      "Updating files:  90% (79/87)\n",
      "Updating files:  91% (80/87)\n",
      "Updating files:  93% (81/87)\n",
      "Updating files:  94% (82/87)\n",
      "Updating files:  95% (83/87)\n",
      "Updating files:  96% (84/87)\n",
      "Updating files:  97% (85/87)\n",
      "Updating files:  98% (86/87)\n",
      "Updating files: 100% (87/87)\n",
      "Updating files: 100% (87/87), done.\n"
     ]
    }
   ],
   "source": [
    "!git clone  https://github.com/desihub/desisurvey.git"
   ]
  },
  {
   "cell_type": "code",
   "execution_count": 11,
   "metadata": {},
   "outputs": [],
   "source": [
    "#\n",
    "# Imports\n",
    "#\n",
    "import os\n",
    "import sys\n",
    "import itertools\n",
    "from types import MethodType\n",
    "import numpy as np\n",
    "import matplotlib\n",
    "import matplotlib.pyplot as plt\n",
    "from matplotlib.font_manager import fontManager, FontProperties\n",
    "from sqlalchemy import __version__ as sqlalchemy_version\n",
    "from sqlalchemy import inspect, and_\n",
    "from sqlalchemy.sql import func\n",
    "from sqlalchemy.orm import aliased\n",
    "import astropy.units as u\n",
    "#\n",
    "# DESI software\n",
    "#\n",
    "from desiutil.log import get_logger, DEBUG\n",
    "from desitarget.targetmask import (desi_mask, mws_mask, bgs_mask)\n",
    "# from desisim.spec_qa import redshifts as dsq_z\n",
    "from desisurvey import __version__ as desisurvey_version\n",
    "\n",
    "#from desisurvey.ephem import get_ephem, get_object_interpolator\n",
    "#from desisurvey.utils import get_observer\n",
    "\n",
    "\n",
    "#from specprodDB import __version__ as specprodDB_version\n",
    "#import specprodDB.load as db\n",
    "#\n",
    "# Set the spectroscopic production run.\n",
    "#\n",
    "specprod = os.environ['SPECPROD'] = 'fuji'  # Change this to 'guadalupe' if needed.\n",
    "#\n",
    "# Initialize ephemerides, to find Moon, etc.\n",
    "#\n",
    "os.environ['DESISURVEY_OUTPUT'] = '/global/cfs/cdirs/desi/public/epo/example_files'\n",
    "#ephem = get_ephem()\n",
    "#\n",
    "# get_ephem() will run freeze_iers(), so we import these after that.\n",
    "#\n",
    "from astropy.time import Time\n",
    "from astropy.coordinates import ICRS\n",
    "#\n",
    "# Working directory.\n",
    "#\n",
    "workingdir = os.getcwd()\n",
    "#print(f'sqlalchemy=={sqlalchemy_version}')\n",
    "#print(f'specprodDB=={specprodDB_version}')\n",
    "#print(f'desisurvey=={desisurvey_version}')"
   ]
  },
  {
   "cell_type": "code",
   "execution_count": 12,
   "metadata": {},
   "outputs": [
    {
     "name": "stdout",
     "output_type": "stream",
     "text": [
      "C:\\Users\\andre\\AppData\\Local\\Programs\\Python\\Python312\\Lib\\site-packages\\specprod_db-1.3.0.dev237-py3.12.egg\\specprodDB\\__init__.py\n"
     ]
    }
   ],
   "source": [
    "import specprodDB\n",
    "print(specprodDB.__file__)"
   ]
  },
  {
   "cell_type": "code",
   "execution_count": 13,
   "metadata": {},
   "outputs": [
    {
     "ename": "ImportError",
     "evalue": "cannot import name 'SafeConfigParser' from 'configparser' (C:\\Users\\andre\\AppData\\Local\\Programs\\Python\\Python312\\Lib\\configparser.py)",
     "output_type": "error",
     "traceback": [
      "\u001b[1;31m---------------------------------------------------------------------------\u001b[0m",
      "\u001b[1;31mImportError\u001b[0m                               Traceback (most recent call last)",
      "Cell \u001b[1;32mIn[13], line 1\u001b[0m\n\u001b[1;32m----> 1\u001b[0m \u001b[38;5;28;01mimport\u001b[39;00m \u001b[38;5;21;01mspecprodDB\u001b[39;00m\u001b[38;5;21;01m.\u001b[39;00m\u001b[38;5;21;01mload\u001b[39;00m \u001b[38;5;28;01mas\u001b[39;00m \u001b[38;5;21;01mdb\u001b[39;00m\n\u001b[0;32m      2\u001b[0m db\u001b[38;5;241m.\u001b[39mlog \u001b[38;5;241m=\u001b[39m get_logger()\n\u001b[0;32m      3\u001b[0m \u001b[38;5;28;01mtry\u001b[39;00m:\n",
      "File \u001b[1;32m~\\AppData\\Local\\Programs\\Python\\Python312\\Lib\\site-packages\\specprod_db-1.3.0.dev237-py3.12.egg\\specprodDB\\load.py:16\u001b[0m\n\u001b[0;32m     14\u001b[0m \u001b[38;5;66;03m# import sys\u001b[39;00m\n\u001b[0;32m     15\u001b[0m \u001b[38;5;28;01mimport\u001b[39;00m \u001b[38;5;21;01mimportlib\u001b[39;00m\u001b[38;5;21;01m.\u001b[39;00m\u001b[38;5;21;01mresources\u001b[39;00m \u001b[38;5;28;01mas\u001b[39;00m \u001b[38;5;21;01mir\u001b[39;00m\n\u001b[1;32m---> 16\u001b[0m \u001b[38;5;28;01mfrom\u001b[39;00m \u001b[38;5;21;01mconfigparser\u001b[39;00m \u001b[38;5;28;01mimport\u001b[39;00m SafeConfigParser\n\u001b[0;32m     18\u001b[0m \u001b[38;5;28;01mimport\u001b[39;00m \u001b[38;5;21;01mnumpy\u001b[39;00m \u001b[38;5;28;01mas\u001b[39;00m \u001b[38;5;21;01mnp\u001b[39;00m\n\u001b[0;32m     19\u001b[0m \u001b[38;5;28;01mfrom\u001b[39;00m \u001b[38;5;21;01mastropy\u001b[39;00m \u001b[38;5;28;01mimport\u001b[39;00m __version__ \u001b[38;5;28;01mas\u001b[39;00m astropy_version\n",
      "\u001b[1;31mImportError\u001b[0m: cannot import name 'SafeConfigParser' from 'configparser' (C:\\Users\\andre\\AppData\\Local\\Programs\\Python\\Python312\\Lib\\configparser.py)"
     ]
    }
   ],
   "source": [
    "import specprodDB.load as db\n",
    "db.log = get_logger()\n",
    "try:\n",
    "    postgresql = db.setup_db(schema=specprod, hostname='specprod-db.desi.lbl.gov', username='desi_public')\n",
    "except RuntimeError:\n",
    "    print(\"\\nIt looks like you need to add access credentials to your $HOME/.pgpass file.\")\n",
    "    print(\"Try running this from the command line and then rerun this cell.\")\n",
    "    print()\n",
    "    print(\"cat /global/common/software/desi/desi_public.pgpass >> ~/.pgpass; chmod 600 ~/.pgpass\")"
   ]
  },
  {
   "cell_type": "code",
   "execution_count": null,
   "metadata": {},
   "outputs": [],
   "source": []
  }
 ],
 "metadata": {
  "kernelspec": {
   "display_name": "Python 3 (ipykernel)",
   "language": "python",
   "name": "python3"
  },
  "language_info": {
   "codemirror_mode": {
    "name": "ipython",
    "version": 3
   },
   "file_extension": ".py",
   "mimetype": "text/x-python",
   "name": "python",
   "nbconvert_exporter": "python",
   "pygments_lexer": "ipython3",
   "version": "3.12.3"
  }
 },
 "nbformat": 4,
 "nbformat_minor": 4
}
